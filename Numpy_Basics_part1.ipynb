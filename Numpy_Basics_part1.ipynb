{
 "cells": [
  {
   "cell_type": "code",
   "execution_count": 1,
   "metadata": {
    "id": "YAvC8k1FKC6i"
   },
   "outputs": [],
   "source": [
    "import numpy as np"
   ]
  },
  {
   "cell_type": "markdown",
   "metadata": {
    "id": "z-ttfWOCWYAD"
   },
   "source": [
    "### Basic Array Creation"
   ]
  },
  {
   "cell_type": "markdown",
   "metadata": {
    "id": "ZksDKlwjHvFV"
   },
   "source": [
    "# Creatation of List\n",
    "How to create Lists in python?"
   ]
  },
  {
   "cell_type": "code",
   "execution_count": 21,
   "metadata": {
    "colab": {
     "base_uri": "https://localhost:8080/"
    },
    "id": "mCgQsxXkF3nb",
    "outputId": "aa5d934e-2656-4d26-94b3-fa80c29060c0"
   },
   "outputs": [
    {
     "name": "stdout",
     "output_type": "stream",
     "text": [
      "[1, 2, 3, 4, 5]\n"
     ]
    }
   ],
   "source": [
    "List1 = [1,2,3,4,5]\n",
    "print(List1)"
   ]
  },
  {
   "cell_type": "markdown",
   "metadata": {
    "id": "EUmihvpDIAzW"
   },
   "source": [
    "# Type\n",
    "Accuire type of list in python."
   ]
  },
  {
   "cell_type": "code",
   "execution_count": 24,
   "metadata": {
    "colab": {
     "base_uri": "https://localhost:8080/"
    },
    "id": "Aw_RtHvuRkDi",
    "outputId": "14674685-a3ff-4892-908d-2da5b604b6ef"
   },
   "outputs": [
    {
     "data": {
      "text/plain": [
       "list"
      ]
     },
     "execution_count": 24,
     "metadata": {},
     "output_type": "execute_result"
    }
   ],
   "source": [
    "type(List1)"
   ]
  },
  {
   "cell_type": "markdown",
   "metadata": {
    "id": "M2TOiuioIc6M"
   },
   "source": [
    "# Creatation of Arrays\n",
    "1.Simple array creation\n",
    "\n",
    "2.Checking array \"TYPE\"\n",
    "\n",
    "3.Numeric \"TYPE\" of array elements\n",
    "\n",
    "4.Array dim\n",
    "\n",
    "5.Array Shape\n",
    "\n",
    "6.Bytes per element\n",
    "\n",
    "7.BYTES OF MEMORY USED, How many bytes for one array element\n",
    "\n",
    "8.Total bytes in an Array"
   ]
  },
  {
   "cell_type": "code",
   "execution_count": 56,
   "metadata": {
    "colab": {
     "base_uri": "https://localhost:8080/"
    },
    "id": "uy_hPIW4A4uM",
    "outputId": "21b0c4ac-de95-49c1-824e-a3f81d24595d"
   },
   "outputs": [
    {
     "name": "stdout",
     "output_type": "stream",
     "text": [
      "Array: [[0.12 1.   2.   3.   4.  ]\n",
      " [5.   6.   7.   8.   9.  ]]\n",
      "Type of Array: float64\n",
      "float64\n",
      "Type of Array: <class 'numpy.ndarray'>\n",
      "<class 'numpy.ndarray'>\n",
      "Dimension of Array: 2\n",
      "Shape of Array: (2, 5)\n",
      "Bytes per element 8\n",
      "Total bytes in an Array 80\n"
     ]
    }
   ],
   "source": [
    "arr=np.array([[0.12,1,2,3,4],[5,6,7,8,9]])\n",
    "print(\"Array:\",arr)\n",
    "print(\"Type of Array:\",arr.dtype)\n",
    "print(arr.dtype)\n",
    "print(\"Type of Array:\",type(arr)) \n",
    "print(type(arr))\n",
    "print(\"Dimension of Array:\",arr.ndim)\n",
    "arr.ndim\n",
    "print(\"Shape of Array:\",arr.shape)\n",
    "arr.shape\n",
    "arr.itemsize\n",
    "arr.nbytes\n",
    "print(\"Bytes per element\",arr.itemsize)\n",
    "print(\"Total bytes in an Array\",arr.nbytes)"
   ]
  },
  {
   "cell_type": "code",
   "execution_count": 55,
   "metadata": {
    "colab": {
     "base_uri": "https://localhost:8080/"
    },
    "id": "tf9pmYpYLuEu",
    "outputId": "da19e533-6fba-488e-d32e-f87cc220594d"
   },
   "outputs": [
    {
     "name": "stdout",
     "output_type": "stream",
     "text": [
      "Array: [0.   1.2  2.   3.   0.12 5.   6.   7.   8.   9.  ]\n",
      "Type of Array: float64\n",
      "Type of Array: <class 'numpy.ndarray'>\n",
      "Dimension of Array: 1\n",
      "Shape of Array: (10,)\n",
      "Bytes per element 8\n",
      "Total bytes in an Array 80\n"
     ]
    }
   ],
   "source": [
    "arr=np.array([0,1.2,2,3,4,5,6,7,8,9])\n",
    "arr[4]= 0.12\n",
    "print(\"Array:\",arr)\n",
    "print(\"Type of Array:\",arr.dtype)\n",
    "print(\"Type of Array:\",type(arr))\n",
    "print(\"Dimension of Array:\",arr.ndim)\n",
    "print(\"Shape of Array:\",arr.shape)\n",
    "print(\"Bytes per element\",arr.itemsize)\n",
    "print(\"Total bytes in an Array\",arr.nbytes)"
   ]
  },
  {
   "cell_type": "markdown",
   "metadata": {
    "id": "czi-ntWzFJ0M"
   },
   "source": [
    "9.Try to assign a float into an int32\n",
    "\n",
    "10.Use .fill function # fill has the same behavior\n"
   ]
  },
  {
   "cell_type": "code",
   "execution_count": 52,
   "metadata": {
    "colab": {
     "base_uri": "https://localhost:8080/"
    },
    "id": "5r2iCLhHFq_-",
    "outputId": "9dcea91a-337a-4d5a-b0f2-593cec85a2d4"
   },
   "outputs": [
    {
     "name": "stdout",
     "output_type": "stream",
     "text": [
      "[0 1 6 3 4]\n",
      "[6 6 6 6 6]\n"
     ]
    }
   ],
   "source": [
    "arr=np.array([0,1,2,3,4])\n",
    "arr[2]=6.78\n",
    "print(arr)\n",
    "arr.fill(6.78)\n",
    "print(arr)\n"
   ]
  },
  {
   "cell_type": "markdown",
   "metadata": {
    "id": "UK4-Grt0F8_k"
   },
   "source": [
    "11.Add two  arrays\n",
    "\n",
    "12.Multiple both arrays\n",
    "\n",
    "13.Use ** operator in array operation\n",
    "\n",
    "14.Create array from 0.0 to 11.0\n",
    "\n",
    "15.Multiply entire array with a scalar value\n",
    " c = (2.0 * np.pi)\n",
    "\n",
    "16.Use np.arrange function to create an array with step of 0.5 from 1.0 to 3.0"
   ]
  },
  {
   "cell_type": "code",
   "execution_count": 86,
   "metadata": {
    "colab": {
     "base_uri": "https://localhost:8080/"
    },
    "id": "1cRgGYTdGayU",
    "outputId": "49ef9048-86d8-4fe1-d874-dff3f0d81287"
   },
   "outputs": [
    {
     "name": "stdout",
     "output_type": "stream",
     "text": [
      "Add two Arrays, [ 2  4  6  8 10]\n",
      "Multiply two Arrays: [ 1  4  9 16 25]\n",
      "Sqr of an Array: [   1    4   27  256 3125]\n",
      "create an array [1 2 3]\n",
      "6.283185307179586\n",
      "multiply entire array [ 6.28318531 12.56637061 18.84955592]\n",
      "Create an Array with 0.5 step [1.  1.1 1.2 1.3 1.4 1.5 1.6 1.7 1.8 1.9 2.  2.1 2.2 2.3 2.4 2.5 2.6 2.7\n",
      " 2.8 2.9 3.  3.1 3.2 3.3 3.4 3.5 3.6 3.7 3.8 3.9 4.  4.1 4.2 4.3 4.4 4.5\n",
      " 4.6 4.7 4.8 4.9 5.  5.1 5.2 5.3 5.4 5.5 5.6 5.7 5.8 5.9 6.  6.1 6.2 6.3\n",
      " 6.4 6.5 6.6 6.7 6.8 6.9]\n"
     ]
    }
   ],
   "source": [
    "a=np.array([1,2,3,4,5])\n",
    "b=np.array([1,2,3,4,5])\n",
    "print(\"Add two Arrays,\",a+b)\n",
    "print(\"Multiply two Arrays:\",a*b)\n",
    "print(\"Sqr of an Array:\",a**b)\n",
    "\n",
    "#Creating an Array\n",
    "arr1=np.arange(1,4)\n",
    "print(\"create an array\",arr1)\n",
    "\n",
    "#Multiply entire array with a scalar value\n",
    "c = (2.0 * np.pi)\n",
    "print(c)\n",
    "arr2=c*arr1\n",
    "print(\"multiply entire array\",arr2)\n",
    "\n",
    "#Use np.arrange function to create an array with step of 0.5 from 1.0 to 3.0\n",
    "arr3=np.arange(1.0,7.0,0.1)\n",
    "print(\"Create an Array with 0.5 step\",arr3)\n",
    "\n"
   ]
  },
  {
   "cell_type": "markdown",
   "metadata": {
    "id": "60fA9aHmI0g_"
   },
   "source": [
    "# Slicing\n",
    "var[lower:upper:step]\n",
    "• Extracts a portion of a sequence by specifying a lower and upper bound.\n",
    "\n",
    "• The lower-bound element is included, but the upper-bound element is not included.\n",
    "\n",
    "• Mathematically: [lower, upper). The step value specifies the stride between elements.\n",
    "\n",
    "1. Etract array indices from 1 to 3:\n",
    "2. Use negative indices as well\n",
    "3. Omitted boundaries are assumed to be the beginning (or end) of the array grab first three elements\n",
    "4. Grab last two elements\n",
    "5. Grab every other element\n",
    "6. slicing the last two elements returns the data there\n",
    "7. Can we insert an iterable of length two? or a scalar value\n",
    "8.Arrays created by slicing share data with the originating array. Changing values in a slice also changes the original array.\n",
    "For example create a slice containing two elements of a changing b changed a! Have an experiment\n",
    "9. if an array a = [[0, 1, 2, 3, 4],[1, 2, 3, 4, 5]] extract values from row 3 to onward and from col 0, 2 and 5\n",
    "10. Perform some masking on a = np.arange(0,36).reshape(6,6)\n",
    "with mask = np.array([1, 0, 1, 0, 0, 1])\n"
   ]
  },
  {
   "cell_type": "code",
   "execution_count": 110,
   "metadata": {
    "colab": {
     "base_uri": "https://localhost:8080/"
    },
    "id": "nYAyP7kdz1LY",
    "outputId": "c314bdd6-50db-4c30-ae87-e945d23febe2"
   },
   "outputs": [
    {
     "name": "stdout",
     "output_type": "stream",
     "text": [
      "Array Extraction [1 2 3 4]\n",
      "Negative Indices [5 6 7]\n",
      "Omitted Boundaries\n",
      "[0 1 2]\n",
      "[3 4 5 6 7 8 9]\n",
      "[0 1 2 3 4 5 6]\n",
      "1st 3 elements [0 1 2]\n",
      "last 2 elements [8 9]\n",
      "Grab other elements [0 4 8]\n",
      "Slice the last two elements [8 9]\n",
      "Yes,we can insert an iterable of length two or a scalar value into various data structures like lists, tuples, dictionaries, and sets.but the list are mutable ordered sequence can accept both iterables of length two and scalar values as elements.\n",
      "[1, [3, 4], 2]\n",
      "[1, [3, 4], 5, 2]\n",
      "sliced list [3 4]\n",
      "sliced list after change in index [100   4]\n",
      "after change in index [  0   1   2 100   4   5   6   7   8   9]\n",
      "extract_rows [[0 1 2 3 4]\n",
      " [1 2 3 4 5]]\n",
      "extract_cols [[0 2 4]\n",
      " [1 3 5]]\n",
      "[1 0 1 0 0 1]\n",
      "[[ 0  1  2  3  4  5]\n",
      " [ 6  7  8  9 10 11]\n",
      " [12 13 14 15 16 17]\n",
      " [18 19 20 21 22 23]\n",
      " [24 25 26 27 28 29]\n",
      " [30 31 32 33 34 35]]\n",
      "mask array [[ 6  7  8  9 10 11]\n",
      " [ 0  1  2  3  4  5]\n",
      " [ 6  7  8  9 10 11]\n",
      " [ 0  1  2  3  4  5]\n",
      " [ 0  1  2  3  4  5]\n",
      " [ 6  7  8  9 10 11]]\n"
     ]
    }
   ],
   "source": [
    "import numpy as np\n",
    "\n",
    "# Extract array indices from 1 to 3:\n",
    "arr = np.array([0, 1, 2, 3, 4, 5, 6, 7, 8, 9])\n",
    "print(\"Array Extraction\",arr[1:5])\n",
    "# Use negative indices as well\n",
    "print(\"Negative Indices\",arr[-5:-2])\n",
    "\n",
    "# Omitted boundaries are assumed to be the beginning (or end) of the array grab first three elements\n",
    "print(\"Omitted Boundaries\")\n",
    "print(arr[:3])\n",
    "print(arr[3:])\n",
    "print(arr[:-3])\n",
    "\n",
    "# Grab first three elements\n",
    "print(\"1st 3 elements\",arr[:3])\n",
    "\n",
    "# Grab last two elements\n",
    "print(\"last 2 elements\",arr[-2:])\n",
    "\n",
    "# Grab every other element\n",
    "print(\"Grab other elements\",arr[::4])\n",
    "\n",
    "# slicing the last two elements returns the data there\n",
    "print(\"Slice the last two elements\",arr[-2:])\n",
    "\n",
    "#Can we insert an iterable of length two? or a scalar value\n",
    "print(\"Yes,we can insert an iterable of length two or a scalar value into various data structures like lists, tuples, dictionaries, and sets.\"\n",
    "      \"but the list are mutable ordered sequence can accept both iterables of length two and scalar values as elements.\")\n",
    "#For example:\n",
    "\n",
    "#creat a list with 2 values\n",
    "my_list=[1,2]\n",
    "#insert an iterable of length two\n",
    "my_list.insert(1, [3, 4])\n",
    "print(my_list)\n",
    "\n",
    "#insert a scalar value\n",
    "my_list.insert(2, 5)\n",
    "print(my_list)\n",
    "\n",
    "\n",
    "# Arrays created by slicing share data with the originating array. Changing values in a slice also changes the original array.\n",
    "# For example create a slice containing two elements of a changing b changed a! Have an experiment\n",
    "\n",
    "#Creating a new array\n",
    "a = np.array([0, 1, 2, 3, 4, 5, 6, 7, 8, 9])\n",
    "sliced_list = a[3:5]\n",
    "print(\"sliced list\",sliced_list)\n",
    "\n",
    "#change value in sliced list\n",
    "sliced_list[0] = 100\n",
    "print(\"sliced list after change in index\",sliced_list)\n",
    "print(\"after change in index\",a)\n",
    "\n",
    "# if an array a = [[0, 1, 2, 3, 4],[1, 2, 3, 4, 5]] extract values from row 3 to onward and from col 0, 2 and 5\n",
    "a = np.array([[0, 1, 2, 3, 4],[1, 2, 3, 4, 5]])\n",
    "#print extracted rows\n",
    "print(\"extract_rows\",a[:2])\n",
    "#print extracted columns values from row 3\n",
    "print(\"extract_cols\",a[:,[0,2,4]])\n",
    "\n",
    "# Perform some masking on a = np.arange(0,36).reshape(6,6)\n",
    "# with mask = np.array([1, 0, 1, 0, 0, 1])\n",
    "mask = np.array([1, 0, 1, 0, 0, 1])\n",
    "print(mask)\n",
    "za = np.arange(0,36).reshape(6,6)\n",
    "print(za)\n",
    "print(\"mask array\",za[mask, :])\n"
   ]
  },
  {
   "cell_type": "markdown",
   "metadata": {
    "id": "WSHrRcoQN0Mu"
   },
   "source": [
    "# Array Functions\n",
    "1.Arange([start,] stop[, step],dtype=None)\n",
    "Nearly identical to Python’s range(). Creates an array of values in the range [start,stop) with the specified step value. Allows non-integer values for start, stop, and step. Default dtype is derived from the start, stop, and step values. create an array with arange.\n",
    "\n",
    "2.Create arrays with ONES, ZEROS, shape is a number or sequence specifying the dimensions of the array. If dtype is not specified, it defaults to float64.\n",
    "\n",
    "3.Generate an n by n identity array. The default dtype is float64.\n",
    "\n",
    "4.use empty, full, and fill, max, min, std, mean, var, argmax, linspace\n",
    "\n",
    "5.\n",
    "\n",
    "  Rule 1:\n",
    "  Operations between multiple array objects are first checked for proper shape match.\n",
    "\n",
    "  Rule 2:\n",
    "  Mathematical operators (+ - * / exp, log, ...) apply element by element, on the values.\n",
    "\n",
    "  Rule 3:\n",
    "  Reduction operations (mean, std, skew, kurt, sum, prod, ...) apply to the whole array, unless an axis is specified.\n",
    "\n",
    "  Rule 4:\n",
    "  Missing values propagate unless explicitly ignored (nanmean, nansum, ...).\n",
    "\n",
    "6.\n",
    "Create the array below with\n",
    "                  a = np.arange(-15, 15).reshape(5, 6) ** 2\n",
    "1. The maximum of each row\n",
    "2. The mean of each column\n",
    "3. The position of the overall minimum\n"
   ]
  },
  {
   "cell_type": "code",
   "execution_count": null,
   "metadata": {
    "id": "-JEUK-2BU_L2"
   },
   "outputs": [],
   "source": []
  },
  {
   "cell_type": "markdown",
   "metadata": {
    "id": "uO-B0OXYWl7A"
   },
   "source": [
    "### Zip Operations on Numpy Arrays\n",
    "Use a zip function on two arrys.\n",
    "\n",
    "Create another array which would be the sum of corresponding elements of two arrays using for loop."
   ]
  },
  {
   "cell_type": "code",
   "execution_count": null,
   "metadata": {
    "id": "QWAhbiOXHEc9"
   },
   "outputs": [],
   "source": [
    "a = [1, 2, 3, 4]\n",
    "b = [2, 3, 4, 5]\n",
    "\n",
    "# Answer Here"
   ]
  },
  {
   "cell_type": "code",
   "execution_count": null,
   "metadata": {
    "id": "ePXox_XHMQTr"
   },
   "outputs": [],
   "source": [
    "#For loop to add corresponding elements in two lists\n",
    "\n",
    "# Answer Here"
   ]
  }
 ],
 "metadata": {
  "colab": {
   "provenance": []
  },
  "kernelspec": {
   "display_name": "Python 3 (ipykernel)",
   "language": "python",
   "name": "python3"
  },
  "language_info": {
   "codemirror_mode": {
    "name": "ipython",
    "version": 3
   },
   "file_extension": ".py",
   "mimetype": "text/x-python",
   "name": "python",
   "nbconvert_exporter": "python",
   "pygments_lexer": "ipython3",
   "version": "3.12.4"
  }
 },
 "nbformat": 4,
 "nbformat_minor": 4
}
